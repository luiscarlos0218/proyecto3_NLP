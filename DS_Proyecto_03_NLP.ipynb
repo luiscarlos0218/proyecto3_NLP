{
 "cells": [
  {
   "cell_type": "markdown",
   "metadata": {
    "id": "2GRQnxMzISE_"
   },
   "source": [
    "# Proyecto 03 - Procesamiento del Lenguaje Natural\n",
    "\n",
    "## Dataset: The Multilingual Amazon Reviews Corpus\n",
    "\n",
    "**Recuerda descargar el dataset de [aquí](https://github.com/kang205/SASRec). Es un archivo .zip que contiene tres documentos. Más información sobre el dataset [aquí](https://registry.opendata.aws/amazon-reviews-ml/). Es importante que tengas en cuenta la [licencia](https://docs.opendata.aws/amazon-reviews-ml/license.txt) de este dataset.**\n",
    "\n",
    "### Exploración de datos y Procesamiento del Lenguaje Natural\n",
    "\n",
    "Dedícale un buen tiempo a hacer un Análisis Exploratorio de Datos. Considera que hasta que no hayas aplicado las herramientas de Procesamiento del Lenguaje Natural vistas, será difícil completar este análisis. Elige preguntas que creas que puedas responder con este dataset. Por ejemplo, ¿qué palabras están asociadas a calificaciones positivas y qué palabras a calificaciones negativas?\n",
    "\n",
    "### Machine Learning\n",
    "\n",
    "Implementa un modelo que, dada la crítica de un producto, asigne la cantidad de estrellas correspondiente. **Para pensar**: ¿es un problema de Clasificación o de Regresión?\n",
    "\n",
    "1. Haz todas las transformaciones de datos que consideres necesarias. Justifica.\n",
    "1. Evalúa de forma apropiada sus resultados. Justifica la métrica elegida.\n",
    "1. Elige un modelo benchmark y compara tus resultados con este modelo.\n",
    "1. Optimiza los hiperparámetros de tu modelo.\n",
    "1. Intenta responder la pregunta: ¿Qué información está usando el modelo para predecir?\n",
    "\n",
    "**Recomendación:** si no te resulta conveniente trabajar en español con NLTK, te recomendamos que explores la librería [spaCy](https://spacy.io/).\n",
    "\n",
    "### Para pensar, investigar y, opcionalmente, implementar\n",
    "1. ¿Valdrá la pena convertir el problema de Machine Learning en un problema binario? Es decir, asignar únicamente las etiquetas Positiva y Negativa a cada crítica y hacer un modelo que, en lugar de predecir las estrellas, prediga esa etiqueta. Pensar en qué situación puede ser útil. ¿Esperas que el desempeño sea mejor o peor?\n",
    "1. ¿Hay algo que te gustaría investigar o probar?\n",
    "\n",
    "### **¡Tómate tiempo para investigar y leer mucho!**"
   ]
  },
  {
   "cell_type": "code",
   "execution_count": 1,
   "metadata": {
    "id": "x1GFwraSISFB"
   },
   "outputs": [
    {
     "name": "stderr",
     "output_type": "stream",
     "text": [
      "[nltk_data] Downloading package punkt to C:\\Users\\Jean Piere\n",
      "[nltk_data]     Castro\\AppData\\Roaming\\nltk_data...\n",
      "[nltk_data]   Package punkt is already up-to-date!\n",
      "[nltk_data] Downloading package stopwords to C:\\Users\\Jean Piere\n",
      "[nltk_data]     Castro\\AppData\\Roaming\\nltk_data...\n",
      "[nltk_data]   Package stopwords is already up-to-date!\n"
     ]
    },
    {
     "data": {
      "text/plain": [
       "True"
      ]
     },
     "execution_count": 1,
     "metadata": {},
     "output_type": "execute_result"
    }
   ],
   "source": [
    "# Herramientas de uso\n",
    "import itertools\n",
    "\n",
    "# Gemas del Infinito\n",
    "import numpy as np\n",
    "import pandas as pd\n",
    "import matplotlib.pyplot as plt\n",
    "import seaborn as sns\n",
    "sns.set()\n",
    "\n",
    "#NLP\n",
    "import nltk\n",
    "\n",
    "# Configuración NLTK\n",
    "nltk.download('punkt')\n",
    "nltk.download('stopwords')"
   ]
  },
  {
   "cell_type": "markdown",
   "metadata": {},
   "source": [
    "## Metodología de trabajo"
   ]
  },
  {
   "cell_type": "markdown",
   "metadata": {},
   "source": [
    "Aqui irá un resumen de lo desarrollado"
   ]
  },
  {
   "cell_type": "markdown",
   "metadata": {},
   "source": [
    "## 1. Exploración"
   ]
  },
  {
   "cell_type": "markdown",
   "metadata": {},
   "source": [
    "### 1.1 Espacio de trabajo"
   ]
  },
  {
   "cell_type": "markdown",
   "metadata": {},
   "source": [
    "* **Dataset Dev**"
   ]
  },
  {
   "cell_type": "code",
   "execution_count": 2,
   "metadata": {},
   "outputs": [
    {
     "data": {
      "text/html": [
       "<div>\n",
       "<style scoped>\n",
       "    .dataframe tbody tr th:only-of-type {\n",
       "        vertical-align: middle;\n",
       "    }\n",
       "\n",
       "    .dataframe tbody tr th {\n",
       "        vertical-align: top;\n",
       "    }\n",
       "\n",
       "    .dataframe thead th {\n",
       "        text-align: right;\n",
       "    }\n",
       "</style>\n",
       "<table border=\"1\" class=\"dataframe\">\n",
       "  <thead>\n",
       "    <tr style=\"text-align: right;\">\n",
       "      <th></th>\n",
       "      <th>review_id</th>\n",
       "      <th>product_id</th>\n",
       "      <th>reviewer_id</th>\n",
       "      <th>stars</th>\n",
       "      <th>review_body</th>\n",
       "      <th>review_title</th>\n",
       "      <th>language</th>\n",
       "      <th>product_category</th>\n",
       "    </tr>\n",
       "  </thead>\n",
       "  <tbody>\n",
       "    <tr>\n",
       "      <th>0</th>\n",
       "      <td>es_0417480</td>\n",
       "      <td>product_es_0873923</td>\n",
       "      <td>reviewer_es_0672978</td>\n",
       "      <td>1</td>\n",
       "      <td>Malisimo, muy grande demasiado aparatoso y mal...</td>\n",
       "      <td>Mala compra</td>\n",
       "      <td>es</td>\n",
       "      <td>wireless</td>\n",
       "    </tr>\n",
       "    <tr>\n",
       "      <th>1</th>\n",
       "      <td>es_0180432</td>\n",
       "      <td>product_es_0713146</td>\n",
       "      <td>reviewer_es_0100858</td>\n",
       "      <td>1</td>\n",
       "      <td>No he recibido el pedido no la devolución</td>\n",
       "      <td>No lo he recibido</td>\n",
       "      <td>es</td>\n",
       "      <td>apparel</td>\n",
       "    </tr>\n",
       "    <tr>\n",
       "      <th>2</th>\n",
       "      <td>es_0144850</td>\n",
       "      <td>product_es_0356874</td>\n",
       "      <td>reviewer_es_0486447</td>\n",
       "      <td>1</td>\n",
       "      <td>Tengo que buscar otro sistema, este no funcion...</td>\n",
       "      <td>Que no aprieta bien en el manillar</td>\n",
       "      <td>es</td>\n",
       "      <td>sports</td>\n",
       "    </tr>\n",
       "    <tr>\n",
       "      <th>3</th>\n",
       "      <td>es_0339629</td>\n",
       "      <td>product_es_0939832</td>\n",
       "      <td>reviewer_es_0894703</td>\n",
       "      <td>1</td>\n",
       "      <td>Utilicé las brocas de menor diámetro y se me d...</td>\n",
       "      <td>Brocas de mantequilla</td>\n",
       "      <td>es</td>\n",
       "      <td>home_improvement</td>\n",
       "    </tr>\n",
       "    <tr>\n",
       "      <th>4</th>\n",
       "      <td>es_0858362</td>\n",
       "      <td>product_es_0489066</td>\n",
       "      <td>reviewer_es_0887663</td>\n",
       "      <td>1</td>\n",
       "      <td>No me gusta su olor a viejo y aspecto malo</td>\n",
       "      <td>No me gusta</td>\n",
       "      <td>es</td>\n",
       "      <td>beauty</td>\n",
       "    </tr>\n",
       "  </tbody>\n",
       "</table>\n",
       "</div>"
      ],
      "text/plain": [
       "    review_id          product_id          reviewer_id  stars  \\\n",
       "0  es_0417480  product_es_0873923  reviewer_es_0672978      1   \n",
       "1  es_0180432  product_es_0713146  reviewer_es_0100858      1   \n",
       "2  es_0144850  product_es_0356874  reviewer_es_0486447      1   \n",
       "3  es_0339629  product_es_0939832  reviewer_es_0894703      1   \n",
       "4  es_0858362  product_es_0489066  reviewer_es_0887663      1   \n",
       "\n",
       "                                         review_body  \\\n",
       "0  Malisimo, muy grande demasiado aparatoso y mal...   \n",
       "1          No he recibido el pedido no la devolución   \n",
       "2  Tengo que buscar otro sistema, este no funcion...   \n",
       "3  Utilicé las brocas de menor diámetro y se me d...   \n",
       "4         No me gusta su olor a viejo y aspecto malo   \n",
       "\n",
       "                         review_title language  product_category  \n",
       "0                         Mala compra       es          wireless  \n",
       "1                   No lo he recibido       es           apparel  \n",
       "2  Que no aprieta bien en el manillar       es            sports  \n",
       "3               Brocas de mantequilla       es  home_improvement  \n",
       "4                         No me gusta       es            beauty  "
      ]
     },
     "execution_count": 2,
     "metadata": {},
     "output_type": "execute_result"
    }
   ],
   "source": [
    "dataset_dev = pd.read_json('dataset_amazon/dataset_es_dev.json', lines= True)\n",
    "dataset_dev.head()"
   ]
  },
  {
   "cell_type": "markdown",
   "metadata": {},
   "source": [
    "* **Dataset Train**"
   ]
  },
  {
   "cell_type": "code",
   "execution_count": 3,
   "metadata": {},
   "outputs": [
    {
     "data": {
      "text/html": [
       "<div>\n",
       "<style scoped>\n",
       "    .dataframe tbody tr th:only-of-type {\n",
       "        vertical-align: middle;\n",
       "    }\n",
       "\n",
       "    .dataframe tbody tr th {\n",
       "        vertical-align: top;\n",
       "    }\n",
       "\n",
       "    .dataframe thead th {\n",
       "        text-align: right;\n",
       "    }\n",
       "</style>\n",
       "<table border=\"1\" class=\"dataframe\">\n",
       "  <thead>\n",
       "    <tr style=\"text-align: right;\">\n",
       "      <th></th>\n",
       "      <th>review_id</th>\n",
       "      <th>product_id</th>\n",
       "      <th>reviewer_id</th>\n",
       "      <th>stars</th>\n",
       "      <th>review_body</th>\n",
       "      <th>review_title</th>\n",
       "      <th>language</th>\n",
       "      <th>product_category</th>\n",
       "    </tr>\n",
       "  </thead>\n",
       "  <tbody>\n",
       "    <tr>\n",
       "      <th>0</th>\n",
       "      <td>es_0491108</td>\n",
       "      <td>product_es_0296024</td>\n",
       "      <td>reviewer_es_0999081</td>\n",
       "      <td>1</td>\n",
       "      <td>Nada bueno se me fue ka pantalla en menos de 8...</td>\n",
       "      <td>television Nevir</td>\n",
       "      <td>es</td>\n",
       "      <td>electronics</td>\n",
       "    </tr>\n",
       "    <tr>\n",
       "      <th>1</th>\n",
       "      <td>es_0869872</td>\n",
       "      <td>product_es_0922286</td>\n",
       "      <td>reviewer_es_0216771</td>\n",
       "      <td>1</td>\n",
       "      <td>Horrible, nos tuvimos que comprar otro porque ...</td>\n",
       "      <td>Dinero tirado a la basura con esta compra</td>\n",
       "      <td>es</td>\n",
       "      <td>electronics</td>\n",
       "    </tr>\n",
       "    <tr>\n",
       "      <th>2</th>\n",
       "      <td>es_0811721</td>\n",
       "      <td>product_es_0474543</td>\n",
       "      <td>reviewer_es_0929213</td>\n",
       "      <td>1</td>\n",
       "      <td>Te obligan a comprar dos unidades y te llega s...</td>\n",
       "      <td>solo llega una unidad cuando te obligan a comp...</td>\n",
       "      <td>es</td>\n",
       "      <td>drugstore</td>\n",
       "    </tr>\n",
       "    <tr>\n",
       "      <th>3</th>\n",
       "      <td>es_0359921</td>\n",
       "      <td>product_es_0656090</td>\n",
       "      <td>reviewer_es_0224702</td>\n",
       "      <td>1</td>\n",
       "      <td>No entro en descalificar al vendedor, solo pue...</td>\n",
       "      <td>PRODUCTO NO RECIBIDO.</td>\n",
       "      <td>es</td>\n",
       "      <td>wireless</td>\n",
       "    </tr>\n",
       "    <tr>\n",
       "      <th>4</th>\n",
       "      <td>es_0068940</td>\n",
       "      <td>product_es_0662544</td>\n",
       "      <td>reviewer_es_0224827</td>\n",
       "      <td>1</td>\n",
       "      <td>Llega tarde y co la talla equivocada</td>\n",
       "      <td>Devuelto</td>\n",
       "      <td>es</td>\n",
       "      <td>shoes</td>\n",
       "    </tr>\n",
       "  </tbody>\n",
       "</table>\n",
       "</div>"
      ],
      "text/plain": [
       "    review_id          product_id          reviewer_id  stars  \\\n",
       "0  es_0491108  product_es_0296024  reviewer_es_0999081      1   \n",
       "1  es_0869872  product_es_0922286  reviewer_es_0216771      1   \n",
       "2  es_0811721  product_es_0474543  reviewer_es_0929213      1   \n",
       "3  es_0359921  product_es_0656090  reviewer_es_0224702      1   \n",
       "4  es_0068940  product_es_0662544  reviewer_es_0224827      1   \n",
       "\n",
       "                                         review_body  \\\n",
       "0  Nada bueno se me fue ka pantalla en menos de 8...   \n",
       "1  Horrible, nos tuvimos que comprar otro porque ...   \n",
       "2  Te obligan a comprar dos unidades y te llega s...   \n",
       "3  No entro en descalificar al vendedor, solo pue...   \n",
       "4               Llega tarde y co la talla equivocada   \n",
       "\n",
       "                                        review_title language product_category  \n",
       "0                                   television Nevir       es      electronics  \n",
       "1          Dinero tirado a la basura con esta compra       es      electronics  \n",
       "2  solo llega una unidad cuando te obligan a comp...       es        drugstore  \n",
       "3                              PRODUCTO NO RECIBIDO.       es         wireless  \n",
       "4                                           Devuelto       es            shoes  "
      ]
     },
     "execution_count": 3,
     "metadata": {},
     "output_type": "execute_result"
    }
   ],
   "source": [
    "dataset_train = pd.read_json('dataset_amazon/dataset_es_train.json', lines= True)\n",
    "dataset_train.head()"
   ]
  },
  {
   "cell_type": "markdown",
   "metadata": {},
   "source": [
    "* **Dataset Test**"
   ]
  },
  {
   "cell_type": "code",
   "execution_count": 4,
   "metadata": {},
   "outputs": [
    {
     "data": {
      "text/html": [
       "<div>\n",
       "<style scoped>\n",
       "    .dataframe tbody tr th:only-of-type {\n",
       "        vertical-align: middle;\n",
       "    }\n",
       "\n",
       "    .dataframe tbody tr th {\n",
       "        vertical-align: top;\n",
       "    }\n",
       "\n",
       "    .dataframe thead th {\n",
       "        text-align: right;\n",
       "    }\n",
       "</style>\n",
       "<table border=\"1\" class=\"dataframe\">\n",
       "  <thead>\n",
       "    <tr style=\"text-align: right;\">\n",
       "      <th></th>\n",
       "      <th>review_id</th>\n",
       "      <th>product_id</th>\n",
       "      <th>reviewer_id</th>\n",
       "      <th>stars</th>\n",
       "      <th>review_body</th>\n",
       "      <th>review_title</th>\n",
       "      <th>language</th>\n",
       "      <th>product_category</th>\n",
       "    </tr>\n",
       "  </thead>\n",
       "  <tbody>\n",
       "    <tr>\n",
       "      <th>0</th>\n",
       "      <td>es_0038754</td>\n",
       "      <td>product_es_0113523</td>\n",
       "      <td>reviewer_es_0580071</td>\n",
       "      <td>1</td>\n",
       "      <td>no me llego el articulo me lo mando por correo...</td>\n",
       "      <td>no me llego</td>\n",
       "      <td>es</td>\n",
       "      <td>wireless</td>\n",
       "    </tr>\n",
       "    <tr>\n",
       "      <th>1</th>\n",
       "      <td>es_0748979</td>\n",
       "      <td>product_es_0017036</td>\n",
       "      <td>reviewer_es_0819733</td>\n",
       "      <td>1</td>\n",
       "      <td>la mensajería horrible, no compro mas</td>\n",
       "      <td>amazon sigue sin cumplir en las entregas</td>\n",
       "      <td>es</td>\n",
       "      <td>home</td>\n",
       "    </tr>\n",
       "    <tr>\n",
       "      <th>2</th>\n",
       "      <td>es_0411746</td>\n",
       "      <td>product_es_0138642</td>\n",
       "      <td>reviewer_es_0508607</td>\n",
       "      <td>1</td>\n",
       "      <td>Estoy muy decepcionado con el vendedor ya que ...</td>\n",
       "      <td>ESTAFA EN EL ENVÍO</td>\n",
       "      <td>es</td>\n",
       "      <td>toy</td>\n",
       "    </tr>\n",
       "    <tr>\n",
       "      <th>3</th>\n",
       "      <td>es_0786686</td>\n",
       "      <td>product_es_0170887</td>\n",
       "      <td>reviewer_es_0491157</td>\n",
       "      <td>1</td>\n",
       "      <td>Mi valoración no es sobre el producto sino sob...</td>\n",
       "      <td>Estafa de Amazon</td>\n",
       "      <td>es</td>\n",
       "      <td>home</td>\n",
       "    </tr>\n",
       "    <tr>\n",
       "      <th>4</th>\n",
       "      <td>es_0429700</td>\n",
       "      <td>product_es_0710642</td>\n",
       "      <td>reviewer_es_0008745</td>\n",
       "      <td>1</td>\n",
       "      <td>Pues tenía interés en este libro y probé la ve...</td>\n",
       "      <td>No conseguí pasar de la portada en Kindle</td>\n",
       "      <td>es</td>\n",
       "      <td>digital_ebook_purchase</td>\n",
       "    </tr>\n",
       "  </tbody>\n",
       "</table>\n",
       "</div>"
      ],
      "text/plain": [
       "    review_id          product_id          reviewer_id  stars  \\\n",
       "0  es_0038754  product_es_0113523  reviewer_es_0580071      1   \n",
       "1  es_0748979  product_es_0017036  reviewer_es_0819733      1   \n",
       "2  es_0411746  product_es_0138642  reviewer_es_0508607      1   \n",
       "3  es_0786686  product_es_0170887  reviewer_es_0491157      1   \n",
       "4  es_0429700  product_es_0710642  reviewer_es_0008745      1   \n",
       "\n",
       "                                         review_body  \\\n",
       "0  no me llego el articulo me lo mando por correo...   \n",
       "1              la mensajería horrible, no compro mas   \n",
       "2  Estoy muy decepcionado con el vendedor ya que ...   \n",
       "3  Mi valoración no es sobre el producto sino sob...   \n",
       "4  Pues tenía interés en este libro y probé la ve...   \n",
       "\n",
       "                                review_title language        product_category  \n",
       "0                                no me llego       es                wireless  \n",
       "1   amazon sigue sin cumplir en las entregas       es                    home  \n",
       "2                         ESTAFA EN EL ENVÍO       es                     toy  \n",
       "3                           Estafa de Amazon       es                    home  \n",
       "4  No conseguí pasar de la portada en Kindle       es  digital_ebook_purchase  "
      ]
     },
     "execution_count": 4,
     "metadata": {},
     "output_type": "execute_result"
    }
   ],
   "source": [
    "dataset_test = pd.read_json('dataset_amazon/dataset_es_test.json', lines= True)\n",
    "dataset_test.head()"
   ]
  },
  {
   "cell_type": "markdown",
   "metadata": {},
   "source": [
    "### 1.2 Exploración inicial"
   ]
  },
  {
   "cell_type": "markdown",
   "metadata": {},
   "source": [
    "Número de instancias en el dataset:"
   ]
  },
  {
   "cell_type": "code",
   "execution_count": 5,
   "metadata": {},
   "outputs": [
    {
     "data": {
      "text/plain": [
       "(5000, 8)"
      ]
     },
     "execution_count": 5,
     "metadata": {},
     "output_type": "execute_result"
    }
   ],
   "source": [
    "dataset_dev.shape"
   ]
  },
  {
   "cell_type": "code",
   "execution_count": 6,
   "metadata": {},
   "outputs": [
    {
     "data": {
      "text/plain": [
       "(200000, 8)"
      ]
     },
     "execution_count": 6,
     "metadata": {},
     "output_type": "execute_result"
    }
   ],
   "source": [
    "dataset_train.shape"
   ]
  },
  {
   "cell_type": "code",
   "execution_count": 7,
   "metadata": {},
   "outputs": [
    {
     "data": {
      "text/plain": [
       "(5000, 8)"
      ]
     },
     "execution_count": 7,
     "metadata": {},
     "output_type": "execute_result"
    }
   ],
   "source": [
    "dataset_test.shape"
   ]
  },
  {
   "cell_type": "code",
   "execution_count": 8,
   "metadata": {},
   "outputs": [
    {
     "data": {
      "image/png": "[encoded data removed]",
      "text/plain": [
       "<Figure size 1080x576 with 1 Axes>"
      ]
     },
     "metadata": {},
     "output_type": "display_data"
    }
   ],
   "source": [
    "plt.figure(figsize = (15,8))\n",
    "plot = sns.countplot(data=dataset_dev, x='product_category')\n",
    "for item in plot.get_xticklabels():\n",
    "    item.set_rotation(90)\n",
    "plt.show()"
   ]
  },
  {
   "cell_type": "code",
   "execution_count": null,
   "metadata": {},
   "outputs": [],
   "source": []
  },
  {
   "cell_type": "code",
   "execution_count": null,
   "metadata": {},
   "outputs": [],
   "source": []
  }
 ],
 "metadata": {
  "colab": {
   "collapsed_sections": [],
   "name": "DS_Proyecto_03_NLP.ipynb",
   "provenance": []
  },
  "kernelspec": {
   "display_name": "Python 3",
   "language": "python",
   "name": "python3"
  },
  "language_info": {
   "codemirror_mode": {
    "name": "ipython",
    "version": 3
   },
   "file_extension": ".py",
   "mimetype": "text/x-python",
   "name": "python",
   "nbconvert_exporter": "python",
   "pygments_lexer": "ipython3",
   "version": "3.8.8"
  }
 },
 "nbformat": 4,
 "nbformat_minor": 1
}
